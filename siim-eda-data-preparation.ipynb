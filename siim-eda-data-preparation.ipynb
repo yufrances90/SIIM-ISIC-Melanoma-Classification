{
 "cells": [
  {
   "cell_type": "code",
   "execution_count": 1,
   "metadata": {
    "_cell_guid": "b1076dfc-b9ad-4769-8c92-a6c4dae69d19",
    "_uuid": "8f2839f25d086af736a60e9eeb907d3b93b6e0e5",
    "execution": {
     "iopub.execute_input": "2020-08-09T19:35:43.428512Z",
     "iopub.status.busy": "2020-08-09T19:35:43.427721Z",
     "iopub.status.idle": "2020-08-09T19:35:50.726737Z",
     "shell.execute_reply": "2020-08-09T19:35:50.725740Z"
    },
    "papermill": {
     "duration": 7.318372,
     "end_time": "2020-08-09T19:35:50.726891",
     "exception": false,
     "start_time": "2020-08-09T19:35:43.408519",
     "status": "completed"
    },
    "tags": []
   },
   "outputs": [],
   "source": [
    "import pandas as pd\n",
    "import numpy as np\n",
    "import os \n",
    "import tensorflow as tf\n",
    "import seaborn as sns\n",
    "import matplotlib.pyplot as plt\n",
    "\n",
    "from pathlib import Path\n",
    "from sklearn.utils import resample"
   ]
  },
  {
   "cell_type": "code",
   "execution_count": 2,
   "metadata": {
    "_cell_guid": "79c7e3d0-c299-4dcb-8224-4455121ee9b0",
    "_uuid": "d629ff2d2480ee46fbb7e2d37f6b5fab8052498a",
    "execution": {
     "iopub.execute_input": "2020-08-09T19:35:50.756445Z",
     "iopub.status.busy": "2020-08-09T19:35:50.755543Z",
     "iopub.status.idle": "2020-08-09T19:35:50.759444Z",
     "shell.execute_reply": "2020-08-09T19:35:50.758796Z"
    },
    "papermill": {
     "duration": 0.021593,
     "end_time": "2020-08-09T19:35:50.759576",
     "exception": false,
     "start_time": "2020-08-09T19:35:50.737983",
     "status": "completed"
    },
    "tags": []
   },
   "outputs": [],
   "source": [
    "str_path = '../input/siim-isic-melanoma-classification'\n",
    "\n",
    "data_dir = Path(str_path)\n",
    "\n",
    "image_dir = os.path.join(data_dir, 'jpeg')\n",
    "\n",
    "train_dir = os.path.join(image_dir, 'train')\n",
    "test_dir = os.path.join(image_dir, 'test')"
   ]
  },
  {
   "cell_type": "code",
   "execution_count": 3,
   "metadata": {
    "execution": {
     "iopub.execute_input": "2020-08-09T19:35:50.791061Z",
     "iopub.status.busy": "2020-08-09T19:35:50.790196Z",
     "iopub.status.idle": "2020-08-09T19:35:50.904523Z",
     "shell.execute_reply": "2020-08-09T19:35:50.903743Z"
    },
    "papermill": {
     "duration": 0.13427,
     "end_time": "2020-08-09T19:35:50.904697",
     "exception": false,
     "start_time": "2020-08-09T19:35:50.770427",
     "status": "completed"
    },
    "tags": []
   },
   "outputs": [],
   "source": [
    "train_csv_file = os.path.join(data_dir, 'train.csv')\n",
    "test_csv_file = os.path.join(data_dir, 'test.csv')\n",
    "\n",
    "train_df = pd.read_csv(train_csv_file)\n",
    "test_df = pd.read_csv(test_csv_file)"
   ]
  },
  {
   "cell_type": "markdown",
   "execution_count": null,
   "metadata": {
    "papermill": {
     "duration": 0.010196,
     "end_time": "2020-08-09T19:35:50.926403",
     "exception": false,
     "start_time": "2020-08-09T19:35:50.916207",
     "status": "completed"
    },
    "tags": []
   },
   "source": [
    "# Data Wrangling & Data Visualization"
   ]
  },
  {
   "cell_type": "code",
   "execution_count": 4,
   "metadata": {
    "execution": {
     "iopub.execute_input": "2020-08-09T19:35:50.964261Z",
     "iopub.status.busy": "2020-08-09T19:35:50.963408Z",
     "iopub.status.idle": "2020-08-09T19:35:50.977120Z",
     "shell.execute_reply": "2020-08-09T19:35:50.976514Z"
    },
    "papermill": {
     "duration": 0.04013,
     "end_time": "2020-08-09T19:35:50.977248",
     "exception": false,
     "start_time": "2020-08-09T19:35:50.937118",
     "status": "completed"
    },
    "tags": []
   },
   "outputs": [
    {
     "data": {
      "text/html": [
       "<div>\n",
       "<style scoped>\n",
       "    .dataframe tbody tr th:only-of-type {\n",
       "        vertical-align: middle;\n",
       "    }\n",
       "\n",
       "    .dataframe tbody tr th {\n",
       "        vertical-align: top;\n",
       "    }\n",
       "\n",
       "    .dataframe thead th {\n",
       "        text-align: right;\n",
       "    }\n",
       "</style>\n",
       "<table border=\"1\" class=\"dataframe\">\n",
       "  <thead>\n",
       "    <tr style=\"text-align: right;\">\n",
       "      <th></th>\n",
       "      <th>image_name</th>\n",
       "      <th>patient_id</th>\n",
       "      <th>sex</th>\n",
       "      <th>age_approx</th>\n",
       "      <th>anatom_site_general_challenge</th>\n",
       "      <th>diagnosis</th>\n",
       "      <th>benign_malignant</th>\n",
       "      <th>target</th>\n",
       "    </tr>\n",
       "  </thead>\n",
       "  <tbody>\n",
       "    <tr>\n",
       "      <th>0</th>\n",
       "      <td>ISIC_2637011</td>\n",
       "      <td>IP_7279968</td>\n",
       "      <td>male</td>\n",
       "      <td>45.0</td>\n",
       "      <td>head/neck</td>\n",
       "      <td>unknown</td>\n",
       "      <td>benign</td>\n",
       "      <td>0</td>\n",
       "    </tr>\n",
       "    <tr>\n",
       "      <th>1</th>\n",
       "      <td>ISIC_0015719</td>\n",
       "      <td>IP_3075186</td>\n",
       "      <td>female</td>\n",
       "      <td>45.0</td>\n",
       "      <td>upper extremity</td>\n",
       "      <td>unknown</td>\n",
       "      <td>benign</td>\n",
       "      <td>0</td>\n",
       "    </tr>\n",
       "    <tr>\n",
       "      <th>2</th>\n",
       "      <td>ISIC_0052212</td>\n",
       "      <td>IP_2842074</td>\n",
       "      <td>female</td>\n",
       "      <td>50.0</td>\n",
       "      <td>lower extremity</td>\n",
       "      <td>nevus</td>\n",
       "      <td>benign</td>\n",
       "      <td>0</td>\n",
       "    </tr>\n",
       "    <tr>\n",
       "      <th>3</th>\n",
       "      <td>ISIC_0068279</td>\n",
       "      <td>IP_6890425</td>\n",
       "      <td>female</td>\n",
       "      <td>45.0</td>\n",
       "      <td>head/neck</td>\n",
       "      <td>unknown</td>\n",
       "      <td>benign</td>\n",
       "      <td>0</td>\n",
       "    </tr>\n",
       "    <tr>\n",
       "      <th>4</th>\n",
       "      <td>ISIC_0074268</td>\n",
       "      <td>IP_8723313</td>\n",
       "      <td>female</td>\n",
       "      <td>55.0</td>\n",
       "      <td>upper extremity</td>\n",
       "      <td>unknown</td>\n",
       "      <td>benign</td>\n",
       "      <td>0</td>\n",
       "    </tr>\n",
       "  </tbody>\n",
       "</table>\n",
       "</div>"
      ],
      "text/plain": [
       "     image_name  patient_id     sex  age_approx anatom_site_general_challenge  \\\n",
       "0  ISIC_2637011  IP_7279968    male        45.0                     head/neck   \n",
       "1  ISIC_0015719  IP_3075186  female        45.0               upper extremity   \n",
       "2  ISIC_0052212  IP_2842074  female        50.0               lower extremity   \n",
       "3  ISIC_0068279  IP_6890425  female        45.0                     head/neck   \n",
       "4  ISIC_0074268  IP_8723313  female        55.0               upper extremity   \n",
       "\n",
       "  diagnosis benign_malignant  target  \n",
       "0   unknown           benign       0  \n",
       "1   unknown           benign       0  \n",
       "2     nevus           benign       0  \n",
       "3   unknown           benign       0  \n",
       "4   unknown           benign       0  "
      ]
     },
     "execution_count": 4,
     "metadata": {},
     "output_type": "execute_result"
    }
   ],
   "source": [
    "train_df.head()"
   ]
  },
  {
   "cell_type": "code",
   "execution_count": 5,
   "metadata": {
    "execution": {
     "iopub.execute_input": "2020-08-09T19:35:51.026556Z",
     "iopub.status.busy": "2020-08-09T19:35:51.025512Z",
     "iopub.status.idle": "2020-08-09T19:35:51.042040Z",
     "shell.execute_reply": "2020-08-09T19:35:51.041252Z"
    },
    "papermill": {
     "duration": 0.054037,
     "end_time": "2020-08-09T19:35:51.042178",
     "exception": false,
     "start_time": "2020-08-09T19:35:50.988141",
     "status": "completed"
    },
    "tags": []
   },
   "outputs": [
    {
     "name": "stdout",
     "output_type": "stream",
     "text": [
      "<class 'pandas.core.frame.DataFrame'>\n",
      "RangeIndex: 33126 entries, 0 to 33125\n",
      "Data columns (total 8 columns):\n",
      " #   Column                         Non-Null Count  Dtype  \n",
      "---  ------                         --------------  -----  \n",
      " 0   image_name                     33126 non-null  object \n",
      " 1   patient_id                     33126 non-null  object \n",
      " 2   sex                            33061 non-null  object \n",
      " 3   age_approx                     33058 non-null  float64\n",
      " 4   anatom_site_general_challenge  32599 non-null  object \n",
      " 5   diagnosis                      33126 non-null  object \n",
      " 6   benign_malignant               33126 non-null  object \n",
      " 7   target                         33126 non-null  int64  \n",
      "dtypes: float64(1), int64(1), object(6)\n",
      "memory usage: 2.0+ MB\n"
     ]
    }
   ],
   "source": [
    "train_df.info()"
   ]
  },
  {
   "cell_type": "code",
   "execution_count": 6,
   "metadata": {
    "execution": {
     "iopub.execute_input": "2020-08-09T19:35:51.072984Z",
     "iopub.status.busy": "2020-08-09T19:35:51.071901Z",
     "iopub.status.idle": "2020-08-09T19:35:51.103880Z",
     "shell.execute_reply": "2020-08-09T19:35:51.103238Z"
    },
    "papermill": {
     "duration": 0.050614,
     "end_time": "2020-08-09T19:35:51.104006",
     "exception": false,
     "start_time": "2020-08-09T19:35:51.053392",
     "status": "completed"
    },
    "tags": []
   },
   "outputs": [
    {
     "data": {
      "text/plain": [
       "0"
      ]
     },
     "execution_count": 6,
     "metadata": {},
     "output_type": "execute_result"
    }
   ],
   "source": [
    "train_df.duplicated().sum()"
   ]
  },
  {
   "cell_type": "code",
   "execution_count": 7,
   "metadata": {
    "execution": {
     "iopub.execute_input": "2020-08-09T19:35:51.132949Z",
     "iopub.status.busy": "2020-08-09T19:35:51.131878Z",
     "iopub.status.idle": "2020-08-09T19:35:51.136969Z",
     "shell.execute_reply": "2020-08-09T19:35:51.136211Z"
    },
    "papermill": {
     "duration": 0.021634,
     "end_time": "2020-08-09T19:35:51.137096",
     "exception": false,
     "start_time": "2020-08-09T19:35:51.115462",
     "status": "completed"
    },
    "tags": []
   },
   "outputs": [],
   "source": [
    "train_df_copy = train_df.copy()"
   ]
  },
  {
   "cell_type": "code",
   "execution_count": 8,
   "metadata": {
    "execution": {
     "iopub.execute_input": "2020-08-09T19:35:51.187372Z",
     "iopub.status.busy": "2020-08-09T19:35:51.186534Z",
     "iopub.status.idle": "2020-08-09T19:35:51.195071Z",
     "shell.execute_reply": "2020-08-09T19:35:51.194412Z"
    },
    "papermill": {
     "duration": 0.046552,
     "end_time": "2020-08-09T19:35:51.195204",
     "exception": false,
     "start_time": "2020-08-09T19:35:51.148652",
     "status": "completed"
    },
    "tags": []
   },
   "outputs": [
    {
     "data": {
      "text/plain": [
       "image_name                         0\n",
       "patient_id                         0\n",
       "sex                               65\n",
       "age_approx                        68\n",
       "anatom_site_general_challenge    527\n",
       "diagnosis                          0\n",
       "benign_malignant                   0\n",
       "target                             0\n",
       "dtype: int64"
      ]
     },
     "execution_count": 8,
     "metadata": {},
     "output_type": "execute_result"
    }
   ],
   "source": [
    "train_df_copy.isnull().sum()"
   ]
  },
  {
   "cell_type": "code",
   "execution_count": 9,
   "metadata": {
    "execution": {
     "iopub.execute_input": "2020-08-09T19:35:51.231053Z",
     "iopub.status.busy": "2020-08-09T19:35:51.227416Z",
     "iopub.status.idle": "2020-08-09T19:35:51.240274Z",
     "shell.execute_reply": "2020-08-09T19:35:51.240870Z"
    },
    "papermill": {
     "duration": 0.034545,
     "end_time": "2020-08-09T19:35:51.241056",
     "exception": false,
     "start_time": "2020-08-09T19:35:51.206511",
     "status": "completed"
    },
    "tags": []
   },
   "outputs": [],
   "source": [
    "rows_to_remove = train_df_copy[train_df_copy['anatom_site_general_challenge'].isnull()].index\n",
    "\n",
    "train_df_copy.drop(rows_to_remove, inplace=True)"
   ]
  },
  {
   "cell_type": "code",
   "execution_count": 10,
   "metadata": {
    "execution": {
     "iopub.execute_input": "2020-08-09T19:35:51.274223Z",
     "iopub.status.busy": "2020-08-09T19:35:51.273376Z",
     "iopub.status.idle": "2020-08-09T19:35:51.287180Z",
     "shell.execute_reply": "2020-08-09T19:35:51.286351Z"
    },
    "papermill": {
     "duration": 0.034607,
     "end_time": "2020-08-09T19:35:51.287309",
     "exception": false,
     "start_time": "2020-08-09T19:35:51.252702",
     "status": "completed"
    },
    "tags": []
   },
   "outputs": [],
   "source": [
    "rows_to_remove = train_df_copy[train_df_copy['sex'].isnull()].index\n",
    "\n",
    "train_df_copy.drop(rows_to_remove, inplace=True)"
   ]
  },
  {
   "cell_type": "code",
   "execution_count": 11,
   "metadata": {
    "execution": {
     "iopub.execute_input": "2020-08-09T19:35:51.317515Z",
     "iopub.status.busy": "2020-08-09T19:35:51.316795Z",
     "iopub.status.idle": "2020-08-09T19:35:51.325479Z",
     "shell.execute_reply": "2020-08-09T19:35:51.326047Z"
    },
    "papermill": {
     "duration": 0.02756,
     "end_time": "2020-08-09T19:35:51.326222",
     "exception": false,
     "start_time": "2020-08-09T19:35:51.298662",
     "status": "completed"
    },
    "tags": []
   },
   "outputs": [],
   "source": [
    "rows_to_remove = train_df_copy[train_df_copy['age_approx'].isnull()].index\n",
    "\n",
    "train_df_copy.drop(rows_to_remove, inplace=True)"
   ]
  },
  {
   "cell_type": "code",
   "execution_count": 12,
   "metadata": {
    "execution": {
     "iopub.execute_input": "2020-08-09T19:35:51.376633Z",
     "iopub.status.busy": "2020-08-09T19:35:51.375853Z",
     "iopub.status.idle": "2020-08-09T19:35:51.383578Z",
     "shell.execute_reply": "2020-08-09T19:35:51.384396Z"
    },
    "papermill": {
     "duration": 0.0468,
     "end_time": "2020-08-09T19:35:51.384579",
     "exception": false,
     "start_time": "2020-08-09T19:35:51.337779",
     "status": "completed"
    },
    "tags": []
   },
   "outputs": [
    {
     "data": {
      "text/plain": [
       "image_name                       0\n",
       "patient_id                       0\n",
       "sex                              0\n",
       "age_approx                       0\n",
       "anatom_site_general_challenge    0\n",
       "diagnosis                        0\n",
       "benign_malignant                 0\n",
       "target                           0\n",
       "dtype: int64"
      ]
     },
     "execution_count": 12,
     "metadata": {},
     "output_type": "execute_result"
    }
   ],
   "source": [
    "train_df_copy.isnull().sum()"
   ]
  },
  {
   "cell_type": "code",
   "execution_count": 13,
   "metadata": {
    "execution": {
     "iopub.execute_input": "2020-08-09T19:35:51.416418Z",
     "iopub.status.busy": "2020-08-09T19:35:51.415232Z",
     "iopub.status.idle": "2020-08-09T19:35:51.612792Z",
     "shell.execute_reply": "2020-08-09T19:35:51.612027Z"
    },
    "papermill": {
     "duration": 0.216723,
     "end_time": "2020-08-09T19:35:51.612923",
     "exception": false,
     "start_time": "2020-08-09T19:35:51.396200",
     "status": "completed"
    },
    "tags": []
   },
   "outputs": [
    {
     "data": {
      "image/png": "[encoded data removed]",
      "text/plain": [
       "<Figure size 432x288 with 1 Axes>"
      ]
     },
     "metadata": {
      "needs_background": "light"
     },
     "output_type": "display_data"
    }
   ],
   "source": [
    "sns.countplot(x='sex', data=train_df_copy)\n",
    "\n",
    "plt.show()"
   ]
  },
  {
   "cell_type": "code",
   "execution_count": 14,
   "metadata": {
    "execution": {
     "iopub.execute_input": "2020-08-09T19:35:51.644877Z",
     "iopub.status.busy": "2020-08-09T19:35:51.644055Z",
     "iopub.status.idle": "2020-08-09T19:35:51.932284Z",
     "shell.execute_reply": "2020-08-09T19:35:51.933183Z"
    },
    "papermill": {
     "duration": 0.308464,
     "end_time": "2020-08-09T19:35:51.933416",
     "exception": false,
     "start_time": "2020-08-09T19:35:51.624952",
     "status": "completed"
    },
    "tags": []
   },
   "outputs": [
    {
     "data": {
      "image/png": "[encoded data removed]",
      "text/plain": [
       "<Figure size 432x288 with 1 Axes>"
      ]
     },
     "metadata": {
      "needs_background": "light"
     },
     "output_type": "display_data"
    }
   ],
   "source": [
    "sns.countplot(x='benign_malignant', data=train_df_copy)\n",
    "\n",
    "plt.show()"
   ]
  },
  {
   "cell_type": "markdown",
   "execution_count": null,
   "metadata": {
    "papermill": {
     "duration": 0.011838,
     "end_time": "2020-08-09T19:35:51.960691",
     "exception": false,
     "start_time": "2020-08-09T19:35:51.948853",
     "status": "completed"
    },
    "tags": []
   },
   "source": [
    "# Splitting Data"
   ]
  },
  {
   "cell_type": "code",
   "execution_count": 15,
   "metadata": {
    "execution": {
     "iopub.execute_input": "2020-08-09T19:35:51.996114Z",
     "iopub.status.busy": "2020-08-09T19:35:51.994995Z",
     "iopub.status.idle": "2020-08-09T19:35:52.034136Z",
     "shell.execute_reply": "2020-08-09T19:35:52.035049Z"
    },
    "papermill": {
     "duration": 0.062519,
     "end_time": "2020-08-09T19:35:52.035286",
     "exception": false,
     "start_time": "2020-08-09T19:35:51.972767",
     "status": "completed"
    },
    "tags": []
   },
   "outputs": [
    {
     "data": {
      "text/plain": [
       "(31956, 575)"
      ]
     },
     "execution_count": 15,
     "metadata": {},
     "output_type": "execute_result"
    }
   ],
   "source": [
    "train_df_copy.query('target == 0').shape[0], train_df_copy.query('target == 1').shape[0]"
   ]
  },
  {
   "cell_type": "code",
   "execution_count": 16,
   "metadata": {
    "execution": {
     "iopub.execute_input": "2020-08-09T19:35:52.072994Z",
     "iopub.status.busy": "2020-08-09T19:35:52.071980Z",
     "iopub.status.idle": "2020-08-09T19:35:52.083442Z",
     "shell.execute_reply": "2020-08-09T19:35:52.082772Z"
    },
    "papermill": {
     "duration": 0.03329,
     "end_time": "2020-08-09T19:35:52.083566",
     "exception": false,
     "start_time": "2020-08-09T19:35:52.050276",
     "status": "completed"
    },
    "tags": []
   },
   "outputs": [],
   "source": [
    "malignant_cases = train_df_copy.query('target == 1')\n",
    "benign_cases = train_df_copy.query('target == 0')\n",
    "\n",
    "benign_size = benign_cases.shape[0]\n",
    "malignant_size = malignant_cases.shape[0]"
   ]
  },
  {
   "cell_type": "code",
   "execution_count": 17,
   "metadata": {
    "execution": {
     "iopub.execute_input": "2020-08-09T19:35:52.120158Z",
     "iopub.status.busy": "2020-08-09T19:35:52.118992Z",
     "iopub.status.idle": "2020-08-09T19:35:52.122840Z",
     "shell.execute_reply": "2020-08-09T19:35:52.121878Z"
    },
    "papermill": {
     "duration": 0.0266,
     "end_time": "2020-08-09T19:35:52.123023",
     "exception": false,
     "start_time": "2020-08-09T19:35:52.096423",
     "status": "completed"
    },
    "tags": []
   },
   "outputs": [],
   "source": [
    "total_size = train_df_copy.shape[0]\n",
    "\n",
    "train_size = int(np.rint(total_size * 0.8))\n",
    "valid_size = total_size - train_size\n",
    "\n",
    "malignant_train_size = int(np.rint(malignant_size * 0.8))\n",
    "\n",
    "benign_train_size = int(np.rint(benign_size * 0.8))"
   ]
  },
  {
   "cell_type": "code",
   "execution_count": 18,
   "metadata": {
    "execution": {
     "iopub.execute_input": "2020-08-09T19:35:52.158313Z",
     "iopub.status.busy": "2020-08-09T19:35:52.157241Z",
     "iopub.status.idle": "2020-08-09T19:35:52.166623Z",
     "shell.execute_reply": "2020-08-09T19:35:52.165895Z"
    },
    "papermill": {
     "duration": 0.030086,
     "end_time": "2020-08-09T19:35:52.166750",
     "exception": false,
     "start_time": "2020-08-09T19:35:52.136664",
     "status": "completed"
    },
    "tags": []
   },
   "outputs": [
    {
     "data": {
      "text/plain": [
       "((460, 8), (115, 8))"
      ]
     },
     "execution_count": 18,
     "metadata": {},
     "output_type": "execute_result"
    }
   ],
   "source": [
    "malignant_cases = malignant_cases.sample(frac=1).reset_index(drop=True)\n",
    "malignant_train_cases = malignant_cases.sample(malignant_train_size)\n",
    "malignant_valid_cases = malignant_cases[~malignant_cases.image_name.isin(malignant_train_cases.image_name)]\n",
    "\n",
    "malignant_train_cases.shape, malignant_valid_cases.shape"
   ]
  },
  {
   "cell_type": "code",
   "execution_count": 19,
   "metadata": {
    "execution": {
     "iopub.execute_input": "2020-08-09T19:35:52.201129Z",
     "iopub.status.busy": "2020-08-09T19:35:52.200284Z",
     "iopub.status.idle": "2020-08-09T19:35:52.239792Z",
     "shell.execute_reply": "2020-08-09T19:35:52.239045Z"
    },
    "papermill": {
     "duration": 0.060112,
     "end_time": "2020-08-09T19:35:52.239920",
     "exception": false,
     "start_time": "2020-08-09T19:35:52.179808",
     "status": "completed"
    },
    "tags": []
   },
   "outputs": [
    {
     "data": {
      "text/plain": [
       "((25565, 8), (6391, 8))"
      ]
     },
     "execution_count": 19,
     "metadata": {},
     "output_type": "execute_result"
    }
   ],
   "source": [
    "benign_cases = benign_cases.sample(frac=1).reset_index(drop=True)\n",
    "benign_train_cases = benign_cases.sample(benign_train_size)\n",
    "benign_valid_cases = benign_cases[~benign_cases.image_name.isin(benign_train_cases.image_name)]\n",
    "\n",
    "benign_train_cases.shape, benign_valid_cases.shape"
   ]
  },
  {
   "cell_type": "code",
   "execution_count": 20,
   "metadata": {
    "execution": {
     "iopub.execute_input": "2020-08-09T19:35:52.272934Z",
     "iopub.status.busy": "2020-08-09T19:35:52.272145Z",
     "iopub.status.idle": "2020-08-09T19:35:52.279876Z",
     "shell.execute_reply": "2020-08-09T19:35:52.279164Z"
    },
    "papermill": {
     "duration": 0.027316,
     "end_time": "2020-08-09T19:35:52.280010",
     "exception": false,
     "start_time": "2020-08-09T19:35:52.252694",
     "status": "completed"
    },
    "tags": []
   },
   "outputs": [],
   "source": [
    "df_minority_upsampled = resample(malignant_train_cases, \n",
    "                         replace=True,       # sample with replacement\n",
    "                         n_samples=benign_train_size,    # to match majority class\n",
    "                         random_state=42)"
   ]
  },
  {
   "cell_type": "code",
   "execution_count": 21,
   "metadata": {
    "execution": {
     "iopub.execute_input": "2020-08-09T19:35:52.312902Z",
     "iopub.status.busy": "2020-08-09T19:35:52.312100Z",
     "iopub.status.idle": "2020-08-09T19:35:52.371804Z",
     "shell.execute_reply": "2020-08-09T19:35:52.370986Z"
    },
    "papermill": {
     "duration": 0.078634,
     "end_time": "2020-08-09T19:35:52.371935",
     "exception": false,
     "start_time": "2020-08-09T19:35:52.293301",
     "status": "completed"
    },
    "tags": []
   },
   "outputs": [],
   "source": [
    "df_train = pd.concat([benign_train_cases, df_minority_upsampled])\n",
    "\n",
    "df_train = df_train.sample(frac=1).reset_index(drop=True)"
   ]
  },
  {
   "cell_type": "code",
   "execution_count": 22,
   "metadata": {
    "execution": {
     "iopub.execute_input": "2020-08-09T19:35:52.406684Z",
     "iopub.status.busy": "2020-08-09T19:35:52.405878Z",
     "iopub.status.idle": "2020-08-09T19:35:52.543519Z",
     "shell.execute_reply": "2020-08-09T19:35:52.542876Z"
    },
    "papermill": {
     "duration": 0.158705,
     "end_time": "2020-08-09T19:35:52.543674",
     "exception": false,
     "start_time": "2020-08-09T19:35:52.384969",
     "status": "completed"
    },
    "tags": []
   },
   "outputs": [
    {
     "data": {
      "image/png": "[encoded data removed]",
      "text/plain": [
       "<Figure size 432x288 with 1 Axes>"
      ]
     },
     "metadata": {
      "needs_background": "light"
     },
     "output_type": "display_data"
    }
   ],
   "source": [
    "sns.countplot(x='benign_malignant', data=df_train)\n",
    "\n",
    "plt.show()"
   ]
  },
  {
   "cell_type": "code",
   "execution_count": 23,
   "metadata": {
    "execution": {
     "iopub.execute_input": "2020-08-09T19:35:52.578785Z",
     "iopub.status.busy": "2020-08-09T19:35:52.577971Z",
     "iopub.status.idle": "2020-08-09T19:35:52.714720Z",
     "shell.execute_reply": "2020-08-09T19:35:52.714074Z"
    },
    "papermill": {
     "duration": 0.157572,
     "end_time": "2020-08-09T19:35:52.714851",
     "exception": false,
     "start_time": "2020-08-09T19:35:52.557279",
     "status": "completed"
    },
    "tags": []
   },
   "outputs": [
    {
     "data": {
      "image/png": "[encoded data removed]",
      "text/plain": [
       "<Figure size 432x288 with 1 Axes>"
      ]
     },
     "metadata": {
      "needs_background": "light"
     },
     "output_type": "display_data"
    }
   ],
   "source": [
    "sns.countplot(x='sex', data=df_train)\n",
    "\n",
    "plt.show()"
   ]
  },
  {
   "cell_type": "code",
   "execution_count": 24,
   "metadata": {
    "execution": {
     "iopub.execute_input": "2020-08-09T19:35:52.750007Z",
     "iopub.status.busy": "2020-08-09T19:35:52.748935Z",
     "iopub.status.idle": "2020-08-09T19:35:52.758362Z",
     "shell.execute_reply": "2020-08-09T19:35:52.757606Z"
    },
    "papermill": {
     "duration": 0.030228,
     "end_time": "2020-08-09T19:35:52.758488",
     "exception": false,
     "start_time": "2020-08-09T19:35:52.728260",
     "status": "completed"
    },
    "tags": []
   },
   "outputs": [],
   "source": [
    "df_valid = pd.concat([benign_valid_cases, malignant_valid_cases])\n",
    "\n",
    "df_valid = df_valid.sample(frac=1).reset_index(drop=True)"
   ]
  },
  {
   "cell_type": "code",
   "execution_count": 25,
   "metadata": {
    "execution": {
     "iopub.execute_input": "2020-08-09T19:35:52.792866Z",
     "iopub.status.busy": "2020-08-09T19:35:52.792113Z",
     "iopub.status.idle": "2020-08-09T19:35:52.920110Z",
     "shell.execute_reply": "2020-08-09T19:35:52.919313Z"
    },
    "papermill": {
     "duration": 0.147885,
     "end_time": "2020-08-09T19:35:52.920252",
     "exception": false,
     "start_time": "2020-08-09T19:35:52.772367",
     "status": "completed"
    },
    "tags": []
   },
   "outputs": [
    {
     "data": {
      "image/png": "[encoded data removed]",
      "text/plain": [
       "<Figure size 432x288 with 1 Axes>"
      ]
     },
     "metadata": {
      "needs_background": "light"
     },
     "output_type": "display_data"
    }
   ],
   "source": [
    "sns.countplot(x='benign_malignant', data=df_valid)\n",
    "\n",
    "plt.show()"
   ]
  },
  {
   "cell_type": "code",
   "execution_count": 26,
   "metadata": {
    "execution": {
     "iopub.execute_input": "2020-08-09T19:35:52.957484Z",
     "iopub.status.busy": "2020-08-09T19:35:52.956745Z",
     "iopub.status.idle": "2020-08-09T19:35:53.080063Z",
     "shell.execute_reply": "2020-08-09T19:35:53.080638Z"
    },
    "papermill": {
     "duration": 0.146141,
     "end_time": "2020-08-09T19:35:53.080843",
     "exception": false,
     "start_time": "2020-08-09T19:35:52.934702",
     "status": "completed"
    },
    "tags": []
   },
   "outputs": [
    {
     "data": {
      "image/png": "[encoded data removed]",
      "text/plain": [
       "<Figure size 432x288 with 1 Axes>"
      ]
     },
     "metadata": {
      "needs_background": "light"
     },
     "output_type": "display_data"
    }
   ],
   "source": [
    "sns.countplot(x='sex', data=df_valid)\n",
    "\n",
    "plt.show()"
   ]
  },
  {
   "cell_type": "code",
   "execution_count": 27,
   "metadata": {
    "execution": {
     "iopub.execute_input": "2020-08-09T19:35:53.115530Z",
     "iopub.status.busy": "2020-08-09T19:35:53.114797Z",
     "iopub.status.idle": "2020-08-09T19:35:53.565470Z",
     "shell.execute_reply": "2020-08-09T19:35:53.564583Z"
    },
    "papermill": {
     "duration": 0.470568,
     "end_time": "2020-08-09T19:35:53.565643",
     "exception": false,
     "start_time": "2020-08-09T19:35:53.095075",
     "status": "completed"
    },
    "tags": []
   },
   "outputs": [],
   "source": [
    "training_data_filepath = os.path.join('.', \"train_data.csv\")\n",
    "df_train.to_csv (training_data_filepath, index = True, header = True)"
   ]
  },
  {
   "cell_type": "code",
   "execution_count": 28,
   "metadata": {
    "execution": {
     "iopub.execute_input": "2020-08-09T19:35:53.601690Z",
     "iopub.status.busy": "2020-08-09T19:35:53.600580Z",
     "iopub.status.idle": "2020-08-09T19:35:53.654403Z",
     "shell.execute_reply": "2020-08-09T19:35:53.653660Z"
    },
    "papermill": {
     "duration": 0.074637,
     "end_time": "2020-08-09T19:35:53.654534",
     "exception": false,
     "start_time": "2020-08-09T19:35:53.579897",
     "status": "completed"
    },
    "tags": []
   },
   "outputs": [],
   "source": [
    "validation_data_filepath = os.path.join('.', \"valid_data.csv\")\n",
    "df_valid.to_csv (validation_data_filepath, index = True, header = True)"
   ]
  }
 ],
 "metadata": {
  "kernelspec": {
   "display_name": "Python 3",
   "language": "python",
   "name": "python3"
  },
  "language_info": {
   "codemirror_mode": {
    "name": "ipython",
    "version": 3
   },
   "file_extension": ".py",
   "mimetype": "text/x-python",
   "name": "python",
   "nbconvert_exporter": "python",
   "pygments_lexer": "ipython3",
   "version": "3.7.6"
  },
  "papermill": {
   "duration": 15.404322,
   "end_time": "2020-08-09T19:35:53.778410",
   "environment_variables": {},
   "exception": null,
   "input_path": "__notebook__.ipynb",
   "output_path": "__notebook__.ipynb",
   "parameters": {},
   "start_time": "2020-08-09T19:35:38.374088",
   "version": "2.1.0"
  }
 },
 "nbformat": 4,
 "nbformat_minor": 4
}
